{
 "cells": [
  {
   "cell_type": "code",
   "execution_count": null,
   "metadata": {},
   "outputs": [],
   "source": [
    "import numpy as np\n",
    "import pandas as pd\n",
    "import matplotlib as plt\n",
    "import seaborn as sns\n",
    "%matplotlib inline"
   ]
  },
  {
   "cell_type": "code",
   "execution_count": null,
   "metadata": {},
   "outputs": [],
   "source": [
    "train=pd.read_csv(\"train.csv\")\n",
    "test=pd.read_csv(\"test.csv\")\n"
   ]
  },
  {
   "cell_type": "code",
   "execution_count": null,
   "metadata": {},
   "outputs": [],
   "source": [
    "train.head()\n",
    "#will assume that the information on the name and ticket is useless/noisy ,or explained by other variables(sex,Pclass,ect)\n",
    "#will assume that the information inside of the strings on the cabin collumn is useless/noisy"
   ]
  },
  {
   "cell_type": "code",
   "execution_count": null,
   "metadata": {},
   "outputs": [],
   "source": [
    "train.info()\n",
    "#age,cabin and embarked have null values"
   ]
  },
  {
   "cell_type": "code",
   "execution_count": null,
   "metadata": {},
   "outputs": [],
   "source": [
    "sns.set_style('whitegrid')\n",
    "sns.countplot(x='Survived',hue='Sex',data=train)\n",
    "#good variable"
   ]
  },
  {
   "cell_type": "code",
   "execution_count": null,
   "metadata": {},
   "outputs": [],
   "source": [
    "sns.countplot(x='Survived',hue='Pclass',data=train,palette='rainbow')\n",
    "#good variable"
   ]
  },
  {
   "cell_type": "code",
   "execution_count": null,
   "metadata": {},
   "outputs": [],
   "source": [
    "train[train[\"Survived\"]==0][\"Age\"].hist(bins=100)"
   ]
  },
  {
   "cell_type": "code",
   "execution_count": null,
   "metadata": {},
   "outputs": [],
   "source": [
    "train[train[\"Survived\"]==1][\"Age\"].hist(bins=100)\n",
    "#good variable,but becomes noisy for people older that 16/18"
   ]
  },
  {
   "cell_type": "code",
   "execution_count": null,
   "metadata": {},
   "outputs": [],
   "source": [
    "sns.countplot(x=\"Survived\",hue=\"SibSp\",data=train)\n",
    "#not a good regressor/the data is noisy"
   ]
  },
  {
   "cell_type": "code",
   "execution_count": null,
   "metadata": {},
   "outputs": [],
   "source": [
    "train[train[\"Survived\"]==0][\"Fare\"].hist(bins=30)"
   ]
  },
  {
   "cell_type": "code",
   "execution_count": null,
   "metadata": {},
   "outputs": [],
   "source": [
    "train[train[\"Survived\"]==1][\"Fare\"].hist(bins=30)\n",
    "#not a good regressor/the data is noisy"
   ]
  },
  {
   "cell_type": "code",
   "execution_count": null,
   "metadata": {},
   "outputs": [],
   "source": [
    "sns.countplot(x=\"Survived\",hue=\"Parch\",data=train)\n",
    "#not a good regressor/the data is noisy"
   ]
  },
  {
   "cell_type": "code",
   "execution_count": null,
   "metadata": {},
   "outputs": [],
   "source": [
    "sns.countplot(x=\"Survived\",hue=\"Embarked\",data=train)\n",
    "#not a good regressor/the data is noisy"
   ]
  },
  {
   "cell_type": "code",
   "execution_count": null,
   "metadata": {},
   "outputs": [],
   "source": [
    "def is_na(x):\n",
    "    if pd.isnull(x):\n",
    "        return 1\n",
    "    else:\n",
    "        return 0\n",
    "train[\"Cabinisnull\"]=train[\"Cabin\"].apply(is_na)\n",
    "#testing if having a cabin number is a good regressor"
   ]
  },
  {
   "cell_type": "code",
   "execution_count": null,
   "metadata": {},
   "outputs": [],
   "source": [
    "sns.countplot(x=\"Survived\",hue=\"Cabinisnull\",data=train)\n",
    "#good variable"
   ]
  },
  {
   "cell_type": "code",
   "execution_count": null,
   "metadata": {},
   "outputs": [],
   "source": [
    "def under16(x):\n",
    "    if x<=16:\n",
    "        return 1\n",
    "    else:\n",
    "        return 0\n",
    "sex = pd.get_dummies(train['Sex'],drop_first=True)\n",
    "#making dummy variables with sex\n",
    "train[\"Ageis16\"]=train[\"Age\"].apply(under16)\n",
    "#making age a categorical variable , as discusted before\n",
    "train.drop(['Sex','Embarked','Name','Ticket',\"Cabin\",\"Age\",\"Fare\",\"SibSp\",\"Parch\",'Embarked'],axis=1,inplace=True)\n",
    "#droping collums that are not usefull\n",
    "train = pd.concat([train,sex],axis=1)"
   ]
  },
  {
   "cell_type": "code",
   "execution_count": null,
   "metadata": {},
   "outputs": [],
   "source": [
    "train.head()"
   ]
  },
  {
   "cell_type": "code",
   "execution_count": null,
   "metadata": {},
   "outputs": [],
   "source": [
    "from sklearn.model_selection import train_test_split\n",
    "X_train, X_test, y_train, y_test = train_test_split(train.drop('Survived',axis=1), \n",
    "                                                    train['Survived'], test_size=0.30, \n",
    "                                                    random_state=101)"
   ]
  },
  {
   "cell_type": "code",
   "execution_count": null,
   "metadata": {},
   "outputs": [],
   "source": [
    "from xgboost import XGBClassifier\n",
    "my_model=XGBClassifier(n=1000,n_jobs=4)\n",
    "my_model.fit(X_train, y_train, \n",
    "             early_stopping_rounds=5, \n",
    "             eval_set=[(X_test, y_test)],\n",
    "             verbose=True)"
   ]
  },
  {
   "cell_type": "code",
   "execution_count": null,
   "metadata": {},
   "outputs": [],
   "source": [
    "pred=my_model.predict(X_test)"
   ]
  },
  {
   "cell_type": "code",
   "execution_count": null,
   "metadata": {},
   "outputs": [],
   "source": [
    "from sklearn.metrics import classification_report,confusion_matrix\n",
    "print(confusion_matrix(y_test,pred))\n",
    "print(classification_report(y_test,pred))\n"
   ]
  },
  {
   "cell_type": "code",
   "execution_count": null,
   "metadata": {},
   "outputs": [],
   "source": [
    "test[\"Cabinisnull\"]=test[\"Cabin\"].apply(is_na)\n",
    "sex = pd.get_dummies(test['Sex'],drop_first=True)\n",
    "test[\"Ageis16\"]=test[\"Age\"].apply(under16)\n",
    "test.drop(['Sex','Embarked','Name','Ticket',\"Cabin\",\"Age\",\"Fare\",\"SibSp\",\"Parch\"],axis=1,inplace=True)\n",
    "test = pd.concat([test,sex],axis=1)"
   ]
  },
  {
   "cell_type": "code",
   "execution_count": null,
   "metadata": {},
   "outputs": [],
   "source": [
    "pred=my_model.predict(test)\n",
    "final=pd.DataFrame()\n",
    "final[\"PassengerId\"]=test[\"PassengerId\"]\n",
    "final[\"Survived\"]=pred\n",
    "final.to_csv(\"final\",index=False)"
   ]
  }
 ],
 "metadata": {
  "kernelspec": {
   "display_name": "Python 3",
   "language": "python",
   "name": "python3"
  },
  "language_info": {
   "codemirror_mode": {
    "name": "ipython",
    "version": 3
   },
   "file_extension": ".py",
   "mimetype": "text/x-python",
   "name": "python",
   "nbconvert_exporter": "python",
   "pygments_lexer": "ipython3",
   "version": "3.7.1"
  }
 },
 "nbformat": 4,
 "nbformat_minor": 2
}
